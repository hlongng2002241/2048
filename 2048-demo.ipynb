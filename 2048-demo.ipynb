{
 "cells": [
  {
   "cell_type": "code",
   "execution_count": null,
   "id": "cbb67715",
   "metadata": {},
   "outputs": [],
   "source": [
    "import pygame\n",
    "pygame.init()"
   ]
  },
  {
   "cell_type": "code",
   "execution_count": 2,
   "id": "573731e3",
   "metadata": {},
   "outputs": [],
   "source": [
    "from game import grid, score, state"
   ]
  },
  {
   "cell_type": "code",
   "execution_count": 4,
   "id": "14b5b756",
   "metadata": {},
   "outputs": [],
   "source": [
    "from algorithm import algorithm, evaluation, minimax, minimax_alpha_beta, expectimax, mixed_expectimax"
   ]
  },
  {
   "cell_type": "code",
   "execution_count": 5,
   "id": "a4c7a017",
   "metadata": {},
   "outputs": [],
   "source": [
    "move_direction = {0:\"Up\", 1:\"Down\", 2:\"Left\", 3:\"Right\"}\n",
    "\n",
    "def test(algorithm: algorithm.Algorithm, depth: int = 4) -> None:\n",
    "    no_of_moves = 0\n",
    "    grid_state = grid.Grid(score.Score(), state.State(\"log.txt\", \"save\"))\n",
    "    algo = algorithm(max_depth = depth)\n",
    "    \n",
    "    print(grid_state)\n",
    "    \n",
    "    while not grid_state.is_terminal('max'):\n",
    "        move_idx = algo.best_move(grid_state)\n",
    "        print(move_direction[move_idx])\n",
    "        no_of_moves += 1\n",
    "        grid_state.random_new_tile()\n",
    "        print(grid_state)\n",
    "    \n",
    "    print(f'Number of moves: {no_of_moves}')"
   ]
  },
  {
   "cell_type": "code",
   "execution_count": null,
   "id": "d59c34db",
   "metadata": {},
   "outputs": [],
   "source": [
    "test(minimax.Minimax, 4)"
   ]
  },
  {
   "cell_type": "code",
   "execution_count": null,
   "id": "9ad4bf19",
   "metadata": {},
   "outputs": [],
   "source": [
    "test(minimax_alpha_beta.MinimaxAlphaBeta, 4)"
   ]
  },
  {
   "cell_type": "code",
   "execution_count": null,
   "id": "0393d063",
   "metadata": {},
   "outputs": [],
   "source": [
    "test(expectimax.Expectimax, 4)"
   ]
  },
  {
   "cell_type": "code",
   "execution_count": null,
   "id": "ca9b424a",
   "metadata": {},
   "outputs": [],
   "source": [
    "test(mixed_expectimax.MixedExpectimax, 4)"
   ]
  }
 ],
 "metadata": {
  "kernelspec": {
   "display_name": "Python 3",
   "language": "python",
   "name": "python3"
  },
  "language_info": {
   "codemirror_mode": {
    "name": "ipython",
    "version": 3
   },
   "file_extension": ".py",
   "mimetype": "text/x-python",
   "name": "python",
   "nbconvert_exporter": "python",
   "pygments_lexer": "ipython3",
   "version": "3.9.5"
  }
 },
 "nbformat": 4,
 "nbformat_minor": 5
}
